{
 "cells": [
  {
   "cell_type": "code",
   "execution_count": null,
   "metadata": {},
   "outputs": [],
   "source": [
    "%load_ext autoreload\n",
    "%autoreload 2\n",
    "\n",
    "%matplotlib inline"
   ]
  },
  {
   "cell_type": "code",
   "execution_count": null,
   "metadata": {},
   "outputs": [],
   "source": [
    "#export\n",
    "from exp.nb_04 import *\n",
    "from functools import partial"
   ]
  },
  {
   "cell_type": "markdown",
   "metadata": {},
   "source": [
    "## Initial setup"
   ]
  },
  {
   "cell_type": "code",
   "execution_count": null,
   "metadata": {},
   "outputs": [],
   "source": [
    "x_train,y_train,x_valid,y_valid = get_data()\n",
    "train_ds,valid_ds = Dataset(x_train, y_train),Dataset(x_valid, y_valid)\n",
    "nh,bs = 50,512\n",
    "loss_func = F.cross_entropy"
   ]
  },
  {
   "cell_type": "code",
   "execution_count": null,
   "metadata": {},
   "outputs": [],
   "source": [
    "data = DataBunch(*get_dls(train_ds, valid_ds, bs))"
   ]
  },
  {
   "cell_type": "code",
   "execution_count": null,
   "metadata": {},
   "outputs": [],
   "source": [
    "#export\n",
    "def create_learner(model_func, loss_func, data):\n",
    "    return Learner(*model_func(data), loss_func, data)"
   ]
  },
  {
   "cell_type": "code",
   "execution_count": null,
   "metadata": {},
   "outputs": [
    {
     "name": "stdout",
     "output_type": "stream",
     "text": [
      "train: [0.66290953125, tensor(0.8077)]\n",
      "valid: [0.2939751220703125, tensor(0.9156)]\n",
      "train: [0.29059810546875, tensor(0.9159)]\n",
      "valid: [0.2435310546875, tensor(0.9297)]\n",
      "train: [0.23656060546875, tensor(0.9315)]\n",
      "valid: [0.2057253662109375, tensor(0.9410)]\n"
     ]
    }
   ],
   "source": [
    "learn = create_learner(get_model, loss_func, data)\n",
    "run = Runner([AvgStatsCallback([accuracy])])\n",
    "\n",
    "run.fit(3, learn)"
   ]
  },
  {
   "cell_type": "code",
   "execution_count": null,
   "metadata": {},
   "outputs": [
    {
     "name": "stdout",
     "output_type": "stream",
     "text": [
      "train: [0.758020546875, tensor(0.8044)]\n",
      "valid: [0.3522728271484375, tensor(0.9016)]\n",
      "train: [0.34644765625, tensor(0.9011)]\n",
      "valid: [0.2855307861328125, tensor(0.9195)]\n",
      "train: [0.29580841796875, tensor(0.9155)]\n",
      "valid: [0.25618642578125, tensor(0.9270)]\n"
     ]
    }
   ],
   "source": [
    "learn = create_learner(partial(get_model, lr=0.3), loss_func, data)\n",
    "run = Runner([AvgStatsCallback([accuracy])])\n",
    "\n",
    "run.fit(3, learn)"
   ]
  },
  {
   "cell_type": "code",
   "execution_count": null,
   "metadata": {},
   "outputs": [],
   "source": [
    "#export\n",
    "def get_model_func(lr=0.5): return partial(get_model, lr=lr)"
   ]
  },
  {
   "cell_type": "markdown",
   "metadata": {},
   "source": [
    "## Annealing"
   ]
  },
  {
   "cell_type": "code",
   "execution_count": null,
   "metadata": {},
   "outputs": [],
   "source": [
    "#export\n",
    "class Recorder(Callback):\n",
    "    def begin_fit(self, run):\n",
    "        run.lrs=[]\n",
    "        run.losses=[]\n",
    "        run.stats=[]\n",
    "\n",
    "    def after_batch(self, run):\n",
    "        if run.in_train:\n",
    "            run.lrs.append(run.opt.param_groups[-1]['lr'])\n",
    "            run.losses.append(run.loss)        \n",
    "\n",
    "def plot_lr  (run): plt.plot(run.lrs)\n",
    "def plot_loss(run): plt.plot(run.losses)"
   ]
  },
  {
   "cell_type": "code",
   "execution_count": null,
   "metadata": {},
   "outputs": [],
   "source": [
    "#export\n",
    "class ParamScheduler(Callback):\n",
    "    _order=1\n",
    "    def __init__(self, pname, sched_func): self.pname,self.sched_func = pname,sched_func\n",
    "\n",
    "    def set_param(self, run):\n",
    "        for pg in run.opt.param_groups:\n",
    "            pg[self.pname] = self.sched_func(run.n_epochs/run.epochs)\n",
    "            \n",
    "    def begin_batch(self, run): \n",
    "        if run.in_train: self.set_param(run)"
   ]
  },
  {
   "cell_type": "code",
   "execution_count": null,
   "metadata": {},
   "outputs": [],
   "source": [
    "#export\n",
    "import numpy as np\n",
    "\n",
    "def _sched_lin_val(start, end, pos): return start + pos*(end-start)\n",
    "def sched_lin(start, end): return partial(_sched_lin_val, start, end)\n",
    "def _sched_cos_val(start, end, pos): return start + math.cos(math.pi*pct/2.)*(end-start)\n",
    "def sched_cos(start, end): return partial(_sched_cos_val, start, end)\n",
    "\n",
    "def combine_scheds(pcts, scheds):\n",
    "    assert sum(pcts) == 1.\n",
    "    assert np.all(np.array(pcts) >= 0)\n",
    "    pcts = np.cumsum([0] + pcts)\n",
    "    def _inner(pos):\n",
    "        idx = (pos >= pcts).nonzero()[0].max()\n",
    "        actual_pos = (pos-pcts[idx]) / (pcts[idx+1]-pcts[idx])\n",
    "        return scheds[idx](actual_pos)\n",
    "    return _inner"
   ]
  },
  {
   "cell_type": "code",
   "execution_count": null,
   "metadata": {},
   "outputs": [],
   "source": [
    "sched = combine_scheds([0.3, 0.7], [sched_lin(0.3, 0.6), sched_lin(0.6, 0.2)]) "
   ]
  },
  {
   "cell_type": "code",
   "execution_count": null,
   "metadata": {},
   "outputs": [],
   "source": [
    "learn = create_learner(get_model_func(0.3), loss_func, data)\n",
    "run = Runner([Recorder(), AvgStatsCallback([accuracy]), ParamScheduler('lr', sched)])"
   ]
  },
  {
   "cell_type": "code",
   "execution_count": null,
   "metadata": {},
   "outputs": [
    {
     "name": "stdout",
     "output_type": "stream",
     "text": [
      "train: [0.775855, tensor(0.7817)]\n",
      "valid: [0.3176037109375, tensor(0.9076)]\n",
      "train: [0.30262380859375, tensor(0.9111)]\n",
      "valid: [0.237495556640625, tensor(0.9306)]\n",
      "train: [0.24313734375, tensor(0.9298)]\n",
      "valid: [0.221632275390625, tensor(0.9369)]\n"
     ]
    }
   ],
   "source": [
    "run.fit(3, learn)"
   ]
  },
  {
   "cell_type": "code",
   "execution_count": null,
   "metadata": {},
   "outputs": [
    {
     "data": {
      "image/png": "[encoded data removed]",
      "text/plain": [
       "<Figure size 432x288 with 1 Axes>"
      ]
     },
     "metadata": {
      "needs_background": "light"
     },
     "output_type": "display_data"
    }
   ],
   "source": [
    "plot_lr(run)"
   ]
  },
  {
   "cell_type": "markdown",
   "metadata": {},
   "source": [
    "## Export"
   ]
  },
  {
   "cell_type": "code",
   "execution_count": null,
   "metadata": {},
   "outputs": [
    {
     "name": "stdout",
     "output_type": "stream",
     "text": [
      "Converted 05_anneal.ipynb to nb_05.py\r\n"
     ]
    }
   ],
   "source": [
    "!./notebook2script.py 05_anneal.ipynb"
   ]
  },
  {
   "cell_type": "code",
   "execution_count": null,
   "metadata": {},
   "outputs": [],
   "source": []
  }
 ],
 "metadata": {
  "kernelspec": {
   "display_name": "Python 3",
   "language": "python",
   "name": "python3"
  }
 },
 "nbformat": 4,
 "nbformat_minor": 2
}
