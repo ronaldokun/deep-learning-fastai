{
 "cells": [
  {
   "cell_type": "code",
   "execution_count": 2,
   "metadata": {},
   "outputs": [
    {
     "name": "stdout",
     "output_type": "stream",
     "text": [
      "The autoreload extension is already loaded. To reload it, use:\n",
      "  %reload_ext autoreload\n"
     ]
    }
   ],
   "source": [
    "import torch as t\n",
    "\n",
    "%load_ext autoreload\n",
    "%autoreload 2\n",
    "\n",
    "%matplotlib inline"
   ]
  },
  {
   "cell_type": "markdown",
   "metadata": {},
   "source": [
    "## Derivadas e Diferenciação\n",
    "Em Deep Learning um passo crucial é escolhermos métricas que são _diferenciáveis_ em relação aos parâmetros do nosso modelo.\n",
    "\n",
    "_Relembrar é viver ( ou relembremos rapidinho para esquecermos logo )_\n",
    "<br><br>\n",
    "**Definição**: Se temos uma função $f: \\mathbb{R} \\rightarrow \\mathbb{R}$ cujo domínio e imagem (recebe e devolve) um escalar ( número e não vetor ou matriz ). A derivada de $f: \\mathbb{R}$ é dada por: $$f'(x) = \\lim_{h \\rightarrow 0} \\frac{f(x+h) - f(x)}{h},$$\n",
    "se esse limite existe. Se $f'(a)$ existe, dizemos que $f$ é diferenciável no ponto $a$."
   ]
  },
  {
   "cell_type": "code",
   "execution_count": null,
   "metadata": {},
   "outputs": [],
   "source": []
  }
 ],
 "metadata": {
  "kernelspec": {
   "display_name": "Python 3",
   "language": "python",
   "name": "python3"
  },
  "language_info": {
   "codemirror_mode": {
    "name": "ipython",
    "version": 3
   },
   "file_extension": ".py",
   "mimetype": "text/x-python",
   "name": "python",
   "nbconvert_exporter": "python",
   "pygments_lexer": "ipython3",
   "version": "3.6.9"
  }
 },
 "nbformat": 4,
 "nbformat_minor": 4
}
