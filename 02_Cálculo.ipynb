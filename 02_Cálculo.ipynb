{
 "cells": [
  {
   "cell_type": "code",
   "execution_count": 2,
   "metadata": {},
   "outputs": [
    {
     "name": "stdout",
     "output_type": "stream",
     "text": [
      "The autoreload extension is already loaded. To reload it, use:\n",
      "  %reload_ext autoreload\n"
     ]
    }
   ],
   "source": [
    "import torch as t\n",
    "\n",
    "%load_ext autoreload\n",
    "%autoreload 2\n",
    "\n",
    "%matplotlib inline"
   ]
  },
  {
   "cell_type": "markdown",
   "metadata": {},
   "source": [
    "## Derivadas e Diferenciação\n",
    "Em Deep Learning um passo crucial é escolhermos métricas que são _diferenciáveis_ em relação aos parâmetros do nosso modelo.\n",
    "\n",
    "_Relembrar é viver ( ou relembremos rapidinho para esquecermos logo )_\n",
    "<br><br>\n",
    "**Definição**: Se temos uma função $f: \\mathbb{R} \\rightarrow \\mathbb{R}$ cujo domínio e imagem (recebe e devolve) um escalar ( número e não vetor ou matriz ). A derivada de $f: \\mathbb{R}$ é dada por: $$f'(x) = \\lim_{h \\rightarrow 0} \\frac{f(x+h) - f(x)}{h},$$\n",
    "se esse limite existe. Se $f'(a)$ existe, dizemos que $f$ é diferenciável no ponto $a$, ademais se $f$ é diferenciável em todos os pontos de um intervalo, dizemos que $f$ é diferenciável no intervalo. Podemos interpretar $f'(x)$ como a taxa de mudança _instantânea_ de $f(x)$ com respeito a $x$. A assim chamada taxa de mudança instantânea é baseada na variação $h$ em $x$, que se aproxima de 0.\n",
    "\n",
    "Para ilustrar derivadas, vamos modelar com um exemplo: Seja $u = f(x) = 3x^2 -4x$"
   ]
  },
  {
   "cell_type": "code",
   "execution_count": 13,
   "metadata": {},
   "outputs": [],
   "source": [
    "def f(x):\n",
    "    return 3 * x**2 - 4 * x"
   ]
  },
  {
   "cell_type": "markdown",
   "metadata": {},
   "source": [
    "No ponto $x = 1$ ao aproximarmos $h$ de $0$, o valor numérico de $\\frac{f(x+h) - f(x)}{h}$ se aproxima de 2. Embora isso não seja uma demostração matemática, é suficiente para intuirmos que a derivada $u' = 2$ no ponto $x=1$ "
   ]
  },
  {
   "cell_type": "code",
   "execution_count": 14,
   "metadata": {},
   "outputs": [
    {
     "name": "stdout",
     "output_type": "stream",
     "text": [
      "h=0.10000000, limite numérico=2.30000000\n",
      "h=0.01000000, limite numérico=2.03000000\n",
      "h=0.00100000, limite numérico=2.00300000\n",
      "h=0.00010000, limite numérico=2.00030000\n",
      "h=0.00001000, limite numérico=2.00003000\n",
      "h=0.00000100, limite numérico=2.00000300\n",
      "h=0.00000010, limite numérico=2.00000030\n",
      "h=0.00000001, limite numérico=1.99999999\n"
     ]
    }
   ],
   "source": [
    "def numerical_lim(f, x, h):\n",
    "    return (f(x + h) - f(x)) / h\n",
    "\n",
    "h = 0.1\n",
    "for i in range(8):\n",
    "    print(f'h={h:.8f}, limite numérico={numerical_lim(f, 1, h):.8f}')\n",
    "    h *= 0.1"
   ]
  },
  {
   "cell_type": "code",
   "execution_count": 18,
   "metadata": {},
   "outputs": [
    {
     "name": "stdout",
     "output_type": "stream",
     "text": [
      "h=0.10000000, limite numérico=2.00000000\n",
      "h=0.01000000, limite numérico=2.00000000\n",
      "h=0.00100000, limite numérico=2.00000000\n",
      "h=0.00010000, limite numérico=2.00000000\n",
      "h=0.00001000, limite numérico=2.00000000\n",
      "h=0.00000100, limite numérico=2.00000000\n",
      "h=0.00000010, limite numérico=2.00000000\n",
      "h=0.00000001, limite numérico=1.99999999\n"
     ]
    }
   ],
   "source": [
    "def stable_numerical_lim(f,x,h):\n",
    "    return (f(x + h) - f(x - h)) / (2*h)\n",
    "\n",
    "h = 0.1\n",
    "for i in range(8):\n",
    "    print(f'h={h:.8f}, limite numérico={stable_numerical_lim(f, 1, h):.8f}')\n",
    "    h *= 0.1"
   ]
  }
 ],
 "metadata": {
  "kernelspec": {
   "display_name": "Python 3",
   "language": "python",
   "name": "python3"
  },
  "language_info": {
   "codemirror_mode": {
    "name": "ipython",
    "version": 3
   },
   "file_extension": ".py",
   "mimetype": "text/x-python",
   "name": "python",
   "nbconvert_exporter": "python",
   "pygments_lexer": "ipython3",
   "version": "3.6.9"
  }
 },
 "nbformat": 4,
 "nbformat_minor": 4
}
